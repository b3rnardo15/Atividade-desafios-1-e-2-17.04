{
 "cells": [
  {
   "cell_type": "code",
   "execution_count": 11,
   "metadata": {},
   "outputs": [
    {
     "name": "stdout",
     "output_type": "stream",
     "text": [
      "O ano do carro é: 1989\n",
      "O preço do carro foi: R$60000.00\n",
      "A taxa é do detran é: R$600.00\n"
     ]
    }
   ],
   "source": [
    "#Desafio 1\n",
    "\n",
    "preco= float(input(\"Valor do carro:\"))\n",
    "ano = int (input (\"Ano do carro\"))\n",
    "\n",
    "print(f\"O ano do carro é: {ano}\")\n",
    "print(f\"O preço do carro foi: R${preco:.2f}\")\n",
    "\n",
    "fabricação = 1990 \n",
    "\n",
    "taxaUmPorcento = 0.01\n",
    "taxaFivePorce = 0.015 \n",
    "\n",
    "if ano < fabricação:\n",
    "    imposto = taxaUmPorcento * preco\n",
    "    print(f\"A taxa é do detran é: R${imposto:.2f}\") \n",
    "else:\n",
    "    imposto = taxaFivePorce * preco\n",
    "    print(f\"A taxa é do detran é: R${imposto:.2f}\") "
   ]
  },
  {
   "cell_type": "code",
   "execution_count": 6,
   "metadata": {},
   "outputs": [
    {
     "name": "stdout",
     "output_type": "stream",
     "text": [
      "Salário antigo: R$5000.00\n",
      "Novo salário: R$6500.00\n",
      "Diferença: R$1500.00\n"
     ]
    }
   ],
   "source": [
    "#Desafio 2\n",
    "# Definindo a tabela de cargos e percentuais de aumento\n",
    "tabela_cargos = {\n",
    "    101: 0.10,  # gerentee\n",
    "    102: 0.20,  # engenheiro\n",
    "    103: 0.30   # tecnico\n",
    "}\n",
    "\n",
    "# Solicitando o salário e o código do cargo do funcionário(a)\n",
    "salario = float(input(\"Digite o salário do funcionário: \"))\n",
    "codigo_cargo = int(input(\"Digite o código do cargo do funcionário: \"))\n",
    "\n",
    "# Verificando se o código do cargo está na tabela\n",
    "if codigo_cargo in tabela_cargos:\n",
    "    percentual_aumento = tabela_cargos[codigo_cargo]\n",
    "else:\n",
    "    percentual_aumento = 0.40  # 40% de aumento para cargos não listados\n",
    "\n",
    "# Calculando o novo salário\n",
    "novo_salario = salario * (1 + percentual_aumento)\n",
    "\n",
    "# Calculando a diferença de salário\n",
    "diferenca_salario = novo_salario - salario\n",
    "\n",
    "# Exibindo os resultados\n",
    "print(f\"Salário antigo: R${salario:.2f}\")\n",
    "print(f\"Novo salário: R${novo_salario:.2f}\")\n",
    "print(f\"Diferença: R${diferenca_salario:.2f}\")"
   ]
  }
 ],
 "metadata": {
  "kernelspec": {
   "display_name": "Python 3",
   "language": "python",
   "name": "python3"
  },
  "language_info": {
   "codemirror_mode": {
    "name": "ipython",
    "version": 3
   },
   "file_extension": ".py",
   "mimetype": "text/x-python",
   "name": "python",
   "nbconvert_exporter": "python",
   "pygments_lexer": "ipython3",
   "version": "3.11.9"
  }
 },
 "nbformat": 4,
 "nbformat_minor": 2
}
